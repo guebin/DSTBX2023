{
 "cells": [
  {
   "cell_type": "raw",
   "id": "6382b4b3-c8c0-4dff-9105-7b6a22dba625",
   "metadata": {},
   "source": [
    "---\n",
    "title: \"Day4: 실습41 - 실습??\"\n",
    "author: \"최규빈\"\n",
    "date: \"01/04/2024\"\n",
    "---"
   ]
  },
  {
   "cell_type": "markdown",
   "id": "00d9960b-740a-4334-905f-a31751d32da5",
   "metadata": {},
   "source": [
    "## 실습41: py310, co 환경에 주피터를 설치 "
   ]
  },
  {
   "cell_type": "markdown",
   "id": "b74c4982-750b-46f2-b2b5-8ca29157ca0d",
   "metadata": {},
   "source": [
    "`-` 아래를 설치 "
   ]
  },
  {
   "cell_type": "markdown",
   "id": "08831f91-e2b4-414f-bf22-acf5b64f4778",
   "metadata": {},
   "source": [
    "```bash\n",
    "(py310) conda install -c conda-forge jupyterlab \n",
    "(py310) conda install -c conda-forge notebook \n",
    "(co) conda install -c conda-forge jupyterlab \n",
    "(co) conda install -c conda-forge notebook \n",
    "```"
   ]
  },
  {
   "cell_type": "markdown",
   "id": "f545dbff-ffcc-4028-96cc-41655309470a",
   "metadata": {},
   "source": [
    "`-` 이래야 해당환경에서 주피터를 연결할 수 있음. "
   ]
  },
  {
   "cell_type": "markdown",
   "id": "6d91f5f2-25c1-4f27-9a85-fb60ef6ecfb4",
   "metadata": {},
   "source": [
    "## 실습42: py310, co 환경에 주피터랩을 각각 띄우기 "
   ]
  },
  {
   "cell_type": "markdown",
   "id": "44dba680-b3d5-4738-a03b-de5b5c2f9aca",
   "metadata": {},
   "source": [
    "`-` 아래를 이용\n",
    "\n",
    "```bash\n",
    "(py310) jupyter lab --port 23052 \n",
    "(co) jupyter lab --port 33052 \n",
    "```"
   ]
  },
  {
   "cell_type": "markdown",
   "id": "e0c61d48-0314-4235-b4e1-b8641734f00f",
   "metadata": {},
   "source": [
    "> 터미널 여러개 쓰는게 편할걸요? "
   ]
  },
  {
   "cell_type": "markdown",
   "id": "64256947-7e55-4029-956f-e9fc5abcc3bc",
   "metadata": {},
   "source": [
    "`-` 참고로 위의 명령은 `vi jupyter_notebook_config.py` 에 대한 설정이 올바르게 끝난 상태에서 가능한 명령어임. "
   ]
  },
  {
   "cell_type": "markdown",
   "id": "80914f33-4a80-4282-afff-ed52ec5cb361",
   "metadata": {},
   "source": [
    "`-` 이제 23052 와 33052 는 각각 다른 파이썬 커널과 연결됨. 아래를 각각 실행해보자. \n",
    "\n",
    "```Python\n",
    "import pandas as pd\n",
    "df = pd.DataFrame({'A':[2143,2143],'B':['-',3456]})\n",
    "df.map(lambda x: 0 if x == '-' else x)\n",
    "```"
   ]
  },
  {
   "cell_type": "markdown",
   "id": "3ce20e2b-ce23-4789-90dc-53f25e1b135c",
   "metadata": {},
   "source": [
    "결과가 어떠한가? 왜 이런 결과가 나왔다고 생각하는가? "
   ]
  },
  {
   "cell_type": "markdown",
   "id": "f0053679-2de6-4f6c-9dbd-0e7745b2dfb1",
   "metadata": {},
   "source": [
    "## 실습41: 포트정리 (`lsof`)"
   ]
  },
  {
   "cell_type": "markdown",
   "id": "500a4411-045f-474a-8685-2a35fb56ee6a",
   "metadata": {},
   "source": [
    "`-` `lsof` 프로그램 설치 \n",
    "\n",
    "```bash\n",
    "apt-get install lsof\n",
    "apt install lsof \n",
    "```"
   ]
  },
  {
   "cell_type": "markdown",
   "id": "5b2ab2e7-7577-4397-80fa-5ba605c166db",
   "metadata": {},
   "source": [
    "`-` 43052 포트를 사용하는 프로그램이 있는지 파악 \n",
    "\n",
    "```bash \n",
    "lsof -i :43052\n",
    "```"
   ]
  },
  {
   "cell_type": "markdown",
   "id": "72bf1b30-b551-4ebe-b324-88e7e7907e61",
   "metadata": {},
   "source": [
    "`-` 각자해볼것: `ssh` 접속시 사용하는 포트 제외하고 나머지 포트를 쓰고 있는 프로그램은 삭제 "
   ]
  },
  {
   "cell_type": "markdown",
   "id": "fdda9ac2-90f1-4b74-8318-63ea345895c5",
   "metadata": {},
   "source": [
    "`-` 주피터랩 평생켜놓기 + 끄기 (이거 자유자재로 할 수 있어야함) "
   ]
  },
  {
   "cell_type": "markdown",
   "id": "de8a75d2-e25d-4c71-8d9d-640009e8d2cf",
   "metadata": {},
   "source": [
    "## 실습42: quarto preview"
   ]
  },
  {
   "cell_type": "markdown",
   "id": "de53cf1a-91d6-42ed-a94b-ae69b1af3e7b",
   "metadata": {},
   "source": [
    "`-` 블로그를 미리보면서 편집하고 싶음. "
   ]
  },
  {
   "cell_type": "markdown",
   "id": "295e24ae-8ede-455c-a60e-ff6a6f757066",
   "metadata": {},
   "source": [
    "`-` 1개의 포트에는 (py310)에 설치된 `jupyterlab`을 할당 + 1개의 포트에는 `quarto preview`를 할당"
   ]
  },
  {
   "cell_type": "markdown",
   "id": "e754c70b-1b76-46b4-8f16-4bd529e1ddc8",
   "metadata": {},
   "source": [
    "```bash \n",
    "# conda install -c conda-forge jupyterlab \n",
    "# conda install -c conda-forge notebook\n",
    "jupyter lab --port 23052 # 230\n",
    "quarto preview --host \"0.0.0.0\" --port 33052\n",
    "````"
   ]
  },
  {
   "cell_type": "markdown",
   "id": "eb0319bc-34ea-4e59-b735-0814b5ce30ad",
   "metadata": {},
   "source": [
    "## 실습42: "
   ]
  },
  {
   "cell_type": "markdown",
   "id": "e0ece6b0-1349-48ff-9b10-895305815ea3",
   "metadata": {},
   "source": [
    "## 실습41: 대시보드 "
   ]
  },
  {
   "cell_type": "markdown",
   "id": "24bdff30-7e07-45d8-b5c6-b132de5ba313",
   "metadata": {},
   "source": [
    "## 실습42: 대시보드 (패키지 충돌)"
   ]
  },
  {
   "cell_type": "markdown",
   "id": "0771d4dd-913c-44f3-9b37-202ec54349da",
   "metadata": {},
   "source": [
    "## 실습43: "
   ]
  },
  {
   "cell_type": "markdown",
   "id": "8599071f-e22e-4bf3-99bc-8e9be5eaddad",
   "metadata": {},
   "source": [
    "## 실습41: 배쉬커널의 이해 "
   ]
  },
  {
   "cell_type": "code",
   "execution_count": null,
   "id": "b31929ce-1145-4a1c-beab-f1da0ba84b69",
   "metadata": {},
   "outputs": [],
   "source": [
    "```bash\n",
    "lst = ('\n",
    "```"
   ]
  },
  {
   "cell_type": "code",
   "execution_count": null,
   "id": "6a90a820-77fd-4660-8be1-8af8c888df47",
   "metadata": {},
   "outputs": [],
   "source": []
  },
  {
   "cell_type": "markdown",
   "id": "fd0a23a8-c469-40a4-93c2-c4ee9c7744ba",
   "metadata": {},
   "source": [
    "## 실습41: R+Python 사용가능한 개발환경 만들기 "
   ]
  },
  {
   "cell_type": "markdown",
   "id": "27a3c96f-f912-4d62-8103-a12d1fa7e1bc",
   "metadata": {},
   "source": [
    "`-` 아래를 실행 \n",
    "\n",
    "```bash\n",
    "conda create -n rpy \n",
    "conda activate rpy\n",
    "conda install -c conda-forge r-essentials\n",
    "conda install -c conda-forge plotly\n",
    "conda install -c conda-forge rpy2\n",
    "```"
   ]
  },
  {
   "cell_type": "markdown",
   "id": "651b359b-a3b4-4180-888e-3f9bb22b996b",
   "metadata": {},
   "source": [
    "`-` 여기에서 `conda install -c conda-forge r-essentials`로 인하여 R, Python, Jupyter 가 모두 최신버전으로 설치된다."
   ]
  },
  {
   "cell_type": "markdown",
   "id": "91d35a7f-2988-48e8-85a9-02373e49b5a5",
   "metadata": {},
   "source": [
    "`-` 또한 R에는 이미 `tidyverse`, `IRkernel` 등의 패키지가 기본으로 깔려있다."
   ]
  },
  {
   "cell_type": "markdown",
   "id": "4bba3b36-0d6c-48ea-9ece-65f732cc2166",
   "metadata": {},
   "source": [
    "`-` R이 설치된 경로를 찾아보자. "
   ]
  },
  {
   "cell_type": "markdown",
   "id": "8a0ddce0-21f0-47fc-b6b9-f30b6b911d55",
   "metadata": {},
   "source": [
    "`-` 수틀리면 이 R을 지우면 된다."
   ]
  },
  {
   "cell_type": "markdown",
   "id": "efadb428-fd86-48fd-8111-8af42a271b7a",
   "metadata": {},
   "source": [
    "`-` R이 설치될 수 있는 3가지 시나리오 \n",
    "\n",
    "```bash\n",
    "sudo apt-get install r-base # r 공식홈페이지, 수틀리면 리눅스 포맷  \n",
    "(base) conda install -c conda-forge ... # 수틀리면 아나콘다 삭제해야함. \n",
    "(rpy) conda install -c conda-forge ... # 수틀리면 가상환경 삭제 \n",
    "```"
   ]
  },
  {
   "cell_type": "markdown",
   "id": "6a380fb1-ab87-40cb-9435-f57925d45743",
   "metadata": {},
   "source": [
    "## 실습42: 여러가지 프로그램, 여러가지 설치방법 "
   ]
  },
  {
   "cell_type": "markdown",
   "id": "437191eb-dd1b-4d5a-b395-34e12e8088c0",
   "metadata": {
    "tags": []
   },
   "source": [
    "`-` 우분투자체의 프로그램\n",
    "\n",
    "- 우분투 자체의 프로그램 예시: git, quarto, python, R, anaconda, vi, ssh, wget, vscode\n",
    "- 우분투 자체의 프로그램은 다시 모든 유저가 영향을 받는 받는 프로그램과 그렇지 않은 프로그램이 있음 \n",
    "- 우분투 자체의 프로그램을 설치하는 방법들 \n",
    "\n",
    "```bash\n",
    "sudo apt install git \n",
    "sudo apt-get install git \n",
    "sudo dpkg -i quarto-1.4.533-linux-amd64.deb \n",
    "bash Anaconda3-2019.03-Linux-x86_64.sh\n",
    "sudo gdebi rstudio-server-1.2.5033-amd64.deb\n",
    "# 기타 파일을 넣을 수 있는 모든 방법 (예를들면 압축파일 다운로드후 풀기) \n",
    "```"
   ]
  },
  {
   "cell_type": "markdown",
   "id": "d3a6efd4-bd42-4475-801c-2baa02544276",
   "metadata": {},
   "source": [
    "`-` 아나콘다(=base)에 종속된 프로그램\n",
    "\n",
    "- 아나콘다내에 종속된 프로그램의 예시: conda, python, R, jupyter\n",
    "- 아나콘다에 종속된 프로그램은 `anaconda3` 폴더안에 있음. "
   ]
  },
  {
   "cell_type": "markdown",
   "id": "a5a18d3e-f845-4071-bda1-40ba07d59400",
   "metadata": {},
   "source": [
    "`-` 아나콘다환경에 종속시킬 수 \"있는\" 프로그램\n",
    "\n",
    "- 아나콘다내에 종속된 프로그램의 예시: python, R, jupyter \n",
    "- 아나콘다환경에 종속된 프로그램은 `anaconda3/envs/py310` 와 같은 형식의 폴더안에 있음. "
   ]
  },
  {
   "cell_type": "markdown",
   "id": "c384fb5d-a900-4a77-a214-2aadfe44aafd",
   "metadata": {},
   "source": [
    "`-` 파이썬에 종속된 프로그램 (=파이썬패키지=파이썬라이브러리=파이썬모듈)\n",
    "\n",
    "- 파이썬에 종속된 프로그램 예시: numpy, pandas\n",
    "- 얘네들이 어디에 깔리는지는 그때그때 다름 \n",
    "- 지우는 방법도 그때그때 다르겠지? (젤 편하고 깔끔하게 지우려면?)"
   ]
  },
  {
   "cell_type": "markdown",
   "id": "6a9a8ec8-04b2-4876-863e-8fd516e0c472",
   "metadata": {},
   "source": [
    "`-` R에 종속된 프로그램 (=R패키지=R라이브러리)\n",
    "\n",
    "- R에 종속된 프로그램의 예시: tidyverse\n",
    "- 얘들이 어디 깔리는지도 그때그때 다름 \n",
    "- 지우는 방법도 그때그때 다르겠지? (젤 편하고 깔끔하게 지우려면?) "
   ]
  },
  {
   "cell_type": "markdown",
   "id": "dda85bd6-f16a-425c-b5a0-2e48ba6cde95",
   "metadata": {},
   "source": [
    "`-` 질문1: `pip install` vs `conda install`\n",
    "\n",
    "- 설치되는 레벨의 차이\n",
    "- 설치에서 느껴지는 편안함의 차이\n",
    "- 삭제할때 느껴지는 불편함의 차이 \n",
    "- `pip install pandas`는 사실 `install.packages(\"tidyverse\")`에 대응되는 것임 "
   ]
  },
  {
   "cell_type": "markdown",
   "id": "54c0b2cf-e252-474f-9499-f736066b10e2",
   "metadata": {},
   "source": [
    "`-` 질문2: 언제 `pip install`을 쓰고 언제 `conda install`을 써야할까? 답은없어요. 저는 대충 아래와 같이 합니다. (해보고 수틀리면 그냥 환경날리세여)\n",
    "\n",
    "- 만만한 패키지는 pip install 로 설치: numpy, pandas \n",
    "- 까다로운 패키지는 conda install 로 설치: torch, autogluon "
   ]
  },
  {
   "cell_type": "markdown",
   "id": "11031a81-4edf-43c7-af92-c8bf5bc2e8c7",
   "metadata": {},
   "source": [
    "## 실습43: (base)에서 (rpy)에 있는 R 실행 "
   ]
  },
  {
   "cell_type": "markdown",
   "id": "a3687437-2c0a-4660-b411-9aecf635766a",
   "metadata": {},
   "source": [
    "`-` 원래는 불가능한 일이겠죠? "
   ]
  },
  {
   "cell_type": "markdown",
   "id": "85a273c7-fbd5-4d13-9b08-82d4784d5ecc",
   "metadata": {},
   "source": [
    "`-` 억지로 가능하게 하려면? "
   ]
  },
  {
   "cell_type": "markdown",
   "id": "19cfc3c9-f66f-4d6a-ada5-ce64fe957647",
   "metadata": {},
   "source": [
    "## 실습44: (rpy)에서 EPT라는 R패키지 설치하고 위치파악하기 "
   ]
  },
  {
   "cell_type": "markdown",
   "id": "e75f735a-0405-4be1-9f0a-9ea9191f141d",
   "metadata": {},
   "source": [
    "`-` R을 실행 \n",
    "\n",
    "```bash\n",
    "conda activate rpy\n",
    "R\n",
    "```\n",
    "\n",
    "`-` 또다른 터미널을 열고 아래의 폴더로 이동 + 패키지확인 \n",
    "\n",
    "```r\n",
    "cd ~/anaconda3/envs/rpy/lib/R/library\n",
    "ls\n",
    "```"
   ]
  },
  {
   "cell_type": "markdown",
   "id": "e8d6fc50-385c-49ec-be56-1a463230b74e",
   "metadata": {},
   "source": [
    "`-` EPT패키지 설치 \n",
    "\n",
    "```r\n",
    "install.packages(\"EPT\")\n",
    "```"
   ]
  },
  {
   "cell_type": "markdown",
   "id": "652a5baa-ed26-4170-af26-1bbed83922f4",
   "metadata": {},
   "source": [
    "`-` `~/anaconda3/envs/rpy/lib/R/library`에서 확인 "
   ]
  },
  {
   "cell_type": "markdown",
   "id": "e96c2165-eafc-4d71-b9cf-d54cc322e27d",
   "metadata": {},
   "source": [
    "## 실습45: (rpy)에 설치된 R과 주피터 연결하기"
   ]
  },
  {
   "cell_type": "markdown",
   "id": "d433c065-6ccb-4ee1-9666-5a23b8e13ac2",
   "metadata": {},
   "source": [
    "`-` R을 실행 \n",
    "\n",
    "```r\n",
    "IRkernel::installspec()\n",
    "```"
   ]
  },
  {
   "cell_type": "markdown",
   "id": "5bbbdc99-6919-4293-910f-6b0cce571e9f",
   "metadata": {},
   "source": [
    "`-` 주피터 실행 "
   ]
  }
 ],
 "metadata": {
  "kernelspec": {
   "display_name": "Python 3 (ipykernel)",
   "language": "python",
   "name": "python3"
  },
  "language_info": {
   "codemirror_mode": {
    "name": "ipython",
    "version": 3
   },
   "file_extension": ".py",
   "mimetype": "text/x-python",
   "name": "python",
   "nbconvert_exporter": "python",
   "pygments_lexer": "ipython3",
   "version": "3.10.13"
  }
 },
 "nbformat": 4,
 "nbformat_minor": 5
}
