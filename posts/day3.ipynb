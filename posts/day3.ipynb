{
 "cells": [
  {
   "cell_type": "raw",
   "id": "54361cdb-77b3-493f-85a1-41a0695734d6",
   "metadata": {},
   "source": [
    "---\n",
    "title: \"Day3: 실습26 - 실습??\"\n",
    "author: \"최규빈\"\n",
    "date: \"01/04/2024\"\n",
    "---"
   ]
  },
  {
   "cell_type": "markdown",
   "id": "f45c3406-4e03-4271-9cb6-ebd43568ef02",
   "metadata": {
    "tags": []
   },
   "source": [
    "## 실습26: 186 컴퓨터에서 깃+깃헙연결하기 "
   ]
  },
  {
   "cell_type": "markdown",
   "id": "3a8c60ac-78ba-4fc9-855d-ce1c0909b4f3",
   "metadata": {},
   "source": [
    "`-` 186에서 깃+깃헙연결할때 어려운점. \n",
    "\n",
    "- 토큰을 쳐야한다는게 어려움. \n",
    "- 윈도우에서는 직접로그인으로 인증했음. 코드스페이스에서는 별도의 인증과정이 필요없었음.\n",
    "- 일반서버에서는 토큰으로 해결해야함. (다른 방법도 있는데 그냥 이게 젤 편함) "
   ]
  },
  {
   "cell_type": "markdown",
   "id": "18471396-43d5-44bf-8520-5e1c76a8b838",
   "metadata": {
    "tags": []
   },
   "source": [
    "`-` 비밀번호 치는게 귀찮으면? \n",
    "\n",
    "```bash\n",
    "git config credential.helper store # 이걸실행하고 이후에 한번만 푸시하면 된다. \n",
    "git add .\n",
    "git commit -m . \n",
    "git push \n",
    "```"
   ]
  },
  {
   "cell_type": "markdown",
   "id": "7d8b12c5-66d4-4769-a338-446be3b3e106",
   "metadata": {},
   "source": [
    "## 실습27: 작업하던 블로그를 강의실 윈도우로 clone"
   ]
  },
  {
   "cell_type": "markdown",
   "id": "ab58a4ce-8ca4-4e6f-8a08-972675c86823",
   "metadata": {},
   "source": [
    "`-` 아래를 실행하면 됩니당 \n",
    "\n",
    "```bash\n",
    "git clone {repo-name} # 처음부터 새로만듦\n",
    "```"
   ]
  },
  {
   "cell_type": "markdown",
   "id": "a33375c7-d0a9-4fe3-8f5e-74572f5c53ed",
   "metadata": {},
   "source": [
    "## 실습28: 블로그 생성원리 이해하기 "
   ]
  },
  {
   "cell_type": "markdown",
   "id": "af2c2d23-29f1-4994-988c-5d5e1e2bc4a9",
   "metadata": {},
   "source": [
    "`-` 아래를 실행하고 `git switch`를 사용할시 무슨일이 생기는지 파악 \n",
    "\n",
    "```bash\n",
    "# git add . \n",
    "# git commit -m . # 이거 2개가 깃에서의 save 라고 생각하자. \n",
    "git switch gh-pages\n",
    "git switch main \n",
    "```"
   ]
  },
  {
   "cell_type": "markdown",
   "id": "582e4d06-bf78-4c70-bef7-c09982ed65cb",
   "metadata": {},
   "source": [
    "`-` 위의 과정을 반복해보면서 폴더를 관찰. 느낀점 서술 "
   ]
  },
  {
   "cell_type": "markdown",
   "id": "82dbe55d-20d3-4e63-a3bd-c5c37d7eb480",
   "metadata": {},
   "source": [
    "`-` `git switch gh-pages`한 상태에서 폴더에 존재하는 html파일들을 열어볼 것. "
   ]
  },
  {
   "cell_type": "markdown",
   "id": "4bfe7809-f552-473e-8878-db9b851673fc",
   "metadata": {},
   "source": [
    "## 실습29: 블로그 깨기 "
   ]
  },
  {
   "cell_type": "markdown",
   "id": "6a8358c3-bf60-493d-a12c-2bd67b2853fe",
   "metadata": {},
   "source": [
    "`-` `git swtich gh-pages`한 상태에서 폴더에 존재하는 모든 파일을 삭제 $\\to$ 본인 홈페이지에 가보자. 홈페이지는 살아 있는가? "
   ]
  },
  {
   "cell_type": "markdown",
   "id": "89c42c42-9a40-41e1-a802-27dcf61df7ee",
   "metadata": {},
   "source": [
    "`-` 아래를 실행하고 본인홈페이지에 방문해보자. 홈페이지는 살아있는가? \n",
    "\n",
    "```bash\n",
    "git add . \n",
    "git commit -m .\n",
    "git push\n",
    "```"
   ]
  },
  {
   "cell_type": "markdown",
   "id": "90738cbc-2fac-40c6-89a4-56ca7a82b07e",
   "metadata": {},
   "source": [
    "`-` 왜 죽었다고 생각하는가? "
   ]
  },
  {
   "cell_type": "markdown",
   "id": "0639459f-685f-45cc-ae57-0351b2c4d795",
   "metadata": {},
   "source": [
    "`-` 깃헙 특수기능 중 하나인 웹페이지 배포능력에 대하여 스스로 이해한 바를 서술해보자. "
   ]
  },
  {
   "cell_type": "markdown",
   "id": "e7522790-07a7-4eb8-9512-7bd4b8dc3592",
   "metadata": {},
   "source": [
    "## 실습30: 코드를 숨기는 블로그 (야메)"
   ]
  },
  {
   "cell_type": "markdown",
   "id": "0c2c7001-6625-492e-8da9-17226f725d4c",
   "metadata": {},
   "source": [
    "`-` 주피터다운로드 후 블로그를 만드는 것은 포스트를 엄청 빠르게 만드는 사기적 능력임 \n",
    "\n",
    "- <https://scikit-learn.org/stable/auto_examples/index.html>\n",
    "- <https://matplotlib.org/stable/gallery/index.html>"
   ]
  },
  {
   "cell_type": "markdown",
   "id": "d4bff760-4a68-4d64-bc60-a8f7176d65c8",
   "metadata": {},
   "source": [
    "`-` 내가 베낄때는 좋지만 누군가가 내 블로그를 베낀다 생각하면 기분나쁠 수 있음 "
   ]
  },
  {
   "cell_type": "markdown",
   "id": "8da7b48a-3a7e-4d3f-b3ab-8600ce4e72e4",
   "metadata": {},
   "source": [
    "`-` 실습29를 응용하여 코드가 없는 블로그를 만들어보자 "
   ]
  },
  {
   "cell_type": "markdown",
   "id": "f1f1bf73-ed23-4031-940c-8d10759be747",
   "metadata": {},
   "source": [
    "## 실습31: 코드를 숨기는 블로그 (합법)"
   ]
  },
  {
   "cell_type": "markdown",
   "id": "b439d9be-f660-4f85-bcb9-b91992778d07",
   "metadata": {},
   "source": [
    "`-` 의문점: 그런데 작업내용을 블로그에 올릴때 꼭 \n",
    "\n",
    "```bash \n",
    "git add . \n",
    "git commit -m . \n",
    "git push\n",
    "quarto publish --no-browser --no-prompt\n",
    "```\n",
    "\n",
    "순서로 업로드 해야하는가? 그냥 단순히 \n",
    "\n",
    "```bash\n",
    "quarto publish --no-browser --no-prompt\n",
    "```\n",
    "\n",
    "만 하면 안되는가? (경험상 되던데요?)"
   ]
  },
  {
   "cell_type": "markdown",
   "id": "f6ca41fe-3199-4c6a-9234-54e9567f935b",
   "metadata": {},
   "source": [
    "`-` 코드를 숨길수 있는 블로그를 만들고 싶다면? 어떻게 하면 좋을지 생각해보자. "
   ]
  },
  {
   "cell_type": "markdown",
   "id": "f6a7f137-e03c-49b5-99a6-49b11afa5ee2",
   "metadata": {},
   "source": [
    "## 실습32: `pull` + `push` (잘 쓰면 편해)"
   ]
  },
  {
   "cell_type": "markdown",
   "id": "88482817-aa22-4130-9107-27d1bb1ba685",
   "metadata": {},
   "source": [
    "`-` 186 컴퓨터 (혹은 본인이 주로 쓰는 서버 컴퓨터) 에서 pull "
   ]
  },
  {
   "cell_type": "markdown",
   "id": "a8466cfd-9a53-487c-b9b0-5bf5a692d831",
   "metadata": {},
   "source": [
    "`-` 186 컴퓨터에서 수정 $\\to$ push "
   ]
  },
  {
   "cell_type": "markdown",
   "id": "8b4da9aa-7fee-48e2-92bc-fa4193f2bece",
   "metadata": {},
   "source": [
    "`-` 실습실 컴퓨터에서 다시 pull "
   ]
  },
  {
   "cell_type": "markdown",
   "id": "0f62a7da-b001-46e6-b3e6-47a7edd00dd7",
   "metadata": {},
   "source": [
    "`-` 실습실 컴퓨터에서 수정 $\\to$ push "
   ]
  },
  {
   "cell_type": "markdown",
   "id": "93672f02-8124-4ead-a98e-92021f1aa414",
   "metadata": {},
   "source": [
    "`-` 소감: "
   ]
  },
  {
   "cell_type": "markdown",
   "id": "e00226c2-ac79-46b2-983e-955c883b06cc",
   "metadata": {},
   "source": [
    "## 실습33: `pull` + `push` (난 불편해)"
   ]
  },
  {
   "cell_type": "markdown",
   "id": "d3c36a44-64b4-4596-85fb-b6767bb4e964",
   "metadata": {},
   "source": [
    "`-` 186 컴퓨터 (혹은 본인이 주로 쓰는 서버 컴퓨터) 에서 pull "
   ]
  },
  {
   "cell_type": "markdown",
   "id": "0c72b130-5a80-45b4-8e0e-33a333250109",
   "metadata": {},
   "source": [
    "`-` 186 컴퓨터에서 수정 $\\to$ push 안함"
   ]
  },
  {
   "cell_type": "markdown",
   "id": "2b873971-3b7a-4e5b-9b5d-e6a3f952a415",
   "metadata": {},
   "source": [
    "`-` 실습실 컴퓨터에서 수정 $\\to$ push "
   ]
  },
  {
   "cell_type": "markdown",
   "id": "4c3d073f-b1d4-4ba0-946f-726f52a6ce75",
   "metadata": {},
   "source": [
    "`-` 186컴퓨터는 뭐야? $\\to$ push 시도.. $\\to$ 실패"
   ]
  },
  {
   "cell_type": "markdown",
   "id": "128d1bc0-a956-4dcb-9e45-642532bca552",
   "metadata": {},
   "source": [
    "`-` 해결책:"
   ]
  },
  {
   "cell_type": "markdown",
   "id": "432aa270-fbf6-41b4-b7e7-59ccf2853bc2",
   "metadata": {},
   "source": [
    "## 실습34: `gh-pages`에서 만들기 싫다면..? "
   ]
  },
  {
   "cell_type": "markdown",
   "id": "f6a30f1e-b77d-4b88-9b1e-6a4d11f537a4",
   "metadata": {},
   "source": [
    "`-` 생각해보니까 딱히 내 코드가 비밀은 아님 "
   ]
  },
  {
   "cell_type": "markdown",
   "id": "f0d8b8ac-2db3-43c7-b0a2-3c1e2f6ddf54",
   "metadata": {},
   "source": [
    "`-` 브랜치를 쓰는게 이론상 깔끔하긴 한데 막상 쓰려니까 불편함. (그 파일이 순간적으로 없어지는 거잖아요?.. 엄청 찝찝해요)"
   ]
  },
  {
   "cell_type": "markdown",
   "id": "d2042cfd-cc2c-42fe-8056-0d04e9e4f98a",
   "metadata": {},
   "source": [
    "`-` `quarto publish`는 아래동작의 결합이다. \n",
    "\n",
    "```bash\n",
    "quarto render \n",
    "# html파일들이 어딘가 만들어져있음. \n",
    "git switch gh-pages\n",
    "# 만들어진 html파일들이 복사됨. \n",
    "git add .\n",
    "git commit -m . \n",
    "git push \n",
    "git switch main \n",
    "```"
   ]
  },
  {
   "cell_type": "markdown",
   "id": "e25801f4-88d0-4d69-af0f-b0068860e429",
   "metadata": {
    "tags": []
   },
   "source": [
    "`-` 아래와 같이 수정하고 싶다면? \n",
    "\n",
    "```bash\n",
    "quarto render \n",
    "# html파일들을 docs라는 폴더에 저장\n",
    "git add .\n",
    "git commit -m . \n",
    "git push \n",
    "```"
   ]
  },
  {
   "cell_type": "markdown",
   "id": "c0326ae7-d9cb-49a4-a881-da74010f11d6",
   "metadata": {},
   "source": [
    "그리고 깃헙설정을 변경한다면? "
   ]
  },
  {
   "cell_type": "markdown",
   "id": "db419b0e-1d68-46fb-a182-f43ff13459d1",
   "metadata": {},
   "source": [
    "`-` 하는방법 \n",
    "\n",
    "**step1**\n",
    "\n",
    "```bash\n",
    "git push origin --delete gh-pages # 로칼에서 브랜치삭제 + 원격으로 업데이트\n",
    "git add .\n",
    "git commit -m .\n",
    "git push \n",
    "```\n",
    "\n",
    "**step2**\n",
    "\n",
    "```{.bash filename=\"_quarto.yml\"}\n",
    "project:\n",
    "  type: website\n",
    "  output-dir: docs # <- 이거 추가하세요\n",
    "# 이 아래는 수정필요없음 \n",
    "```\n",
    "\n",
    "**step3**\n",
    "\n",
    "이후 <https://github.com/{user-name}/{repo-name}/settings/pages> 로 이동하여 셋팅을 변경하면 된다. "
   ]
  },
  {
   "cell_type": "markdown",
   "id": "a1baed2d-1941-4b1d-b0aa-b3ed70f2da7f",
   "metadata": {},
   "source": [
    "## 실습14: quarto publish 의 동작이해 (강의용 윈도우 컴퓨터)"
   ]
  },
  {
   "cell_type": "code",
   "execution_count": null,
   "id": "e2a50ea9-2655-4432-bd1c-e9628ed94f55",
   "metadata": {},
   "outputs": [],
   "source": []
  }
 ],
 "metadata": {
  "kernelspec": {
   "display_name": "Python 3 (ipykernel)",
   "language": "python",
   "name": "python3"
  },
  "language_info": {
   "codemirror_mode": {
    "name": "ipython",
    "version": 3
   },
   "file_extension": ".py",
   "mimetype": "text/x-python",
   "name": "python",
   "nbconvert_exporter": "python",
   "pygments_lexer": "ipython3",
   "version": "3.10.13"
  }
 },
 "nbformat": 4,
 "nbformat_minor": 5
}
