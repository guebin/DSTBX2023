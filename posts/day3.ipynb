{
 "cells": [
  {
   "cell_type": "raw",
   "id": "54361cdb-77b3-493f-85a1-41a0695734d6",
   "metadata": {},
   "source": [
    "---\n",
    "title: \"Day3: 실습26 - 실습??\"\n",
    "author: \"최규빈\"\n",
    "date: \"01/04/2024\"\n",
    "---"
   ]
  },
  {
   "cell_type": "markdown",
   "id": "7d8b12c5-66d4-4769-a338-446be3b3e106",
   "metadata": {},
   "source": [
    "## 실습13: 코드스페이스에 작업한 블로그를 윈도우로 pull (강의용 윈도우 컴퓨터) "
   ]
  },
  {
   "cell_type": "markdown",
   "id": "ede9849e-d7ec-447c-a305-bf597e4d3e1e",
   "metadata": {},
   "source": [
    "`-` 코드스페이스에서 작업한 블로그를 윈도우 컴퓨터에서 이어서 작업하는 방법 \n",
    "\n",
    "- `git clone {repo-name}`\n",
    "- `git pull`"
   ]
  },
  {
   "cell_type": "markdown",
   "id": "0ad2f15a-6474-4d8d-8ed6-d614d967bc86",
   "metadata": {},
   "source": [
    "- git switch gh-pages\n",
    "- git add .\n",
    "- git commit -m .\n",
    "- git switch main\n",
    "- git add .\n",
    "- git commit -m .\n",
    "- git push"
   ]
  },
  {
   "cell_type": "markdown",
   "id": "a1baed2d-1941-4b1d-b0aa-b3ed70f2da7f",
   "metadata": {},
   "source": [
    "## 실습14: quarto publish 의 동작이해 (강의용 윈도우 컴퓨터)"
   ]
  },
  {
   "cell_type": "markdown",
   "id": "2386261f-eb7e-47e9-b32f-5bb80a22ca21",
   "metadata": {},
   "source": [
    "- 질문1: git add . -> git commit -m . -> git push -> quarto publish --no-browser --no-prompt 순서로 꼭 업로드 해야하는가? 그냥 단순히 \"quarto publish --no-browser --no-prompt\" 만 하면 안되는가? "
   ]
  }
 ],
 "metadata": {
  "kernelspec": {
   "display_name": "Python 3 (ipykernel)",
   "language": "python",
   "name": "python3"
  },
  "language_info": {
   "codemirror_mode": {
    "name": "ipython",
    "version": 3
   },
   "file_extension": ".py",
   "mimetype": "text/x-python",
   "name": "python",
   "nbconvert_exporter": "python",
   "pygments_lexer": "ipython3",
   "version": "3.10.13"
  }
 },
 "nbformat": 4,
 "nbformat_minor": 5
}
