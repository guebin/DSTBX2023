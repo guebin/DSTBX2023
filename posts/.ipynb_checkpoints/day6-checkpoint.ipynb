{
 "cells": [
  {
   "cell_type": "raw",
   "id": "be9672f8-9b52-43e9-9ccc-dc478af391ea",
   "metadata": {},
   "source": [
    "---\n",
    "title: \"Day6: 실습68 - 실습??\"\n",
    "author: \"최규빈\"\n",
    "date: \"01/10/2024\"\n",
    "---"
   ]
  },
  {
   "cell_type": "markdown",
   "id": "281d1b53-0e3c-40b3-940d-5100cb02973f",
   "metadata": {},
   "source": [
    "## 실습68: 100MB 충돌 "
   ]
  },
  {
   "cell_type": "markdown",
   "id": "5a4e0bbc-c024-49bc-ace8-180d327f83f2",
   "metadata": {},
   "source": [
    "`-` 100MB가 넘는 파일을 upload할 경우 생기는 충돌 재현 \n",
    "\n",
    "```bash\n",
    "git clone https://github.com/guebin/dinner.git # 각자 레포를 만들고 클론할것 \n",
    "cd dinner # 클론한 repo로 이동\n",
    "git config credential.helper store # git 등록 \n",
    "wget https://media.githubusercontent.com/media/guebin/PP2023/main/posts/fashion-mnist_train.csv # 100MB넘는 csv다운로드 \n",
    "git add .\n",
    "git commit -m .\n",
    "git push \n",
    "#여기서 1차당황\n",
    "```"
   ]
  },
  {
   "cell_type": "markdown",
   "id": "8d4aee89-89ba-4d62-9f0b-936961838ea8",
   "metadata": {},
   "source": [
    "`-` 삭제후 다시 push\n",
    "\n",
    "```bash\n",
    "rm fashion-mnist_train.csv \n",
    "git add .\n",
    "git commit -m .\n",
    "git push \n",
    "# 여기서 2차당황\n",
    "```"
   ]
  },
  {
   "cell_type": "markdown",
   "id": "60d240e0-1ceb-4e30-9894-39e14481dc74",
   "metadata": {},
   "source": [
    "`-` 해결책? local에서 깃폴더삭제하고 다시 clone  "
   ]
  },
  {
   "cell_type": "markdown",
   "id": "f155b113-5d89-482d-b79e-76ad5f5c2957",
   "metadata": {},
   "source": [
    "## 실습69: git ignore "
   ]
  },
  {
   "cell_type": "markdown",
   "id": "1ec4e293-4ae3-446d-ac42-320b9a050d26",
   "metadata": {},
   "source": [
    "`-` 다시 아래의 상황을 만듦. \n",
    "\n",
    "```bash\n",
    "git clone https://github.com/guebin/dinner.git # 각자 레포를 만들고 클론할것 \n",
    "cd dinner # 클론한 repo로 이동\n",
    "git config credential.helper store # git 등록 \n",
    "wget https://media.githubusercontent.com/media/guebin/PP2023/main/posts/fashion-mnist_train.csv # 100MB넘는 csv다운로드 \n",
    "```"
   ]
  },
  {
   "cell_type": "markdown",
   "id": "f18e3869-a5f2-480b-ab74-5b2046b178da",
   "metadata": {
    "tags": []
   },
   "source": [
    "`-` `.gitignore` 파일 생성 \n",
    "\n",
    "```{.bash filename=~/dinner/.gitignore}\n",
    "*csv\n",
    "```"
   ]
  },
  {
   "cell_type": "markdown",
   "id": "470905f4-48be-4b9c-8e4d-7f2da61ac5b7",
   "metadata": {},
   "source": [
    "`-` 아래를 시도 \n",
    "\n",
    "```bash\n",
    "git add .\n",
    "git commit -m .\n",
    "git push \n",
    "```"
   ]
  },
  {
   "cell_type": "markdown",
   "id": "1763b440-c35f-49a2-b160-fe9958b90a4c",
   "metadata": {},
   "source": [
    "`-` 하위폴더도 영향받음을 확인 \n",
    "\n",
    "- data라는 폴더를 생성\n",
    "- fashion-mnist_train.csv 를 data 폴더로 이동 \n",
    "- `ls data > ./data/data_list.txt` 실행 (무슨뜻?)\n",
    "- github으로 push"
   ]
  },
  {
   "cell_type": "markdown",
   "id": "03bf0551-b2c4-4739-90ce-6be7cbb4cbbe",
   "metadata": {},
   "source": [
    "## 실습70: 블로그 제목이 update 되지 않을때 "
   ]
  },
  {
   "cell_type": "code",
   "execution_count": null,
   "id": "cd34c3be-5ac3-478c-bbaa-501f739aa99f",
   "metadata": {},
   "outputs": [],
   "source": []
  }
 ],
 "metadata": {
  "kernelspec": {
   "display_name": "Python 3 (ipykernel)",
   "language": "python",
   "name": "python3"
  },
  "language_info": {
   "codemirror_mode": {
    "name": "ipython",
    "version": 3
   },
   "file_extension": ".py",
   "mimetype": "text/x-python",
   "name": "python",
   "nbconvert_exporter": "python",
   "pygments_lexer": "ipython3",
   "version": "3.10.13"
  }
 },
 "nbformat": 4,
 "nbformat_minor": 5
}
