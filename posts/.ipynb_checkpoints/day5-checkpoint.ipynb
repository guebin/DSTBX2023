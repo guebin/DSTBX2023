{
 "cells": [
  {
   "cell_type": "raw",
   "id": "be9672f8-9b52-43e9-9ccc-dc478af391ea",
   "metadata": {},
   "source": [
    "---\n",
    "title: \"Day5: 실습64 - 실습67\"\n",
    "author: \"최규빈\"\n",
    "date: \"01/10/2024\"\n",
    "---"
   ]
  },
  {
   "cell_type": "markdown",
   "id": "3d17797f-a889-41ac-aeb2-679d3b2eb07f",
   "metadata": {},
   "source": [
    "{{< video https://youtu.be/playlist?list=PLQqh36zP38-zNewy_xkCk3ywz5ZIupOlf&si=yHHcZx42HwvWkCBt >}}"
   ]
  },
  {
   "cell_type": "markdown",
   "id": "1225ffc1",
   "metadata": {},
   "source": [
    "- docker를 사용하는 부분은 window로 실습한 부분이라 촬영이 불가능했습니다."
   ]
  },
  {
   "cell_type": "markdown",
   "id": "281d1b53-0e3c-40b3-940d-5100cb02973f",
   "metadata": {},
   "source": [
    "## 실습64: docker로 Rstudio 실행하기(실습실 컴퓨터)"
   ]
  },
  {
   "cell_type": "markdown",
   "id": "eb626ea9-098c-4d7c-a23b-f2c63c69d75d",
   "metadata": {},
   "source": [
    "ref: <https://rocker-project.org/>"
   ]
  },
  {
   "cell_type": "markdown",
   "id": "09046151-1000-47ab-90f0-626ceda613bd",
   "metadata": {},
   "source": [
    "`-` 다커실행파일 다운로드 \n",
    "\n",
    "- <https://docs.docker.com/desktop/install/windows-install/>"
   ]
  },
  {
   "cell_type": "markdown",
   "id": "4f0dc168-bc1b-4a38-acc9-576cc2e61adc",
   "metadata": {},
   "source": [
    "`-` docker 이미지 다운로드 \n",
    "\n",
    "```bash\n",
    "docker pull rocker/rstudio\n",
    "```"
   ]
  },
  {
   "cell_type": "markdown",
   "id": "8c8beca8-8a76-442f-8bd2-e5e8036675ef",
   "metadata": {},
   "source": [
    "`-` 다운받은 이미지 확인하기 \n",
    "\n",
    "```bash\n",
    "docker images\n",
    "```"
   ]
  },
  {
   "cell_type": "markdown",
   "id": "b8539544-0c97-4a05-ab67-57077d087e3b",
   "metadata": {},
   "source": [
    "`-` 이미지에서 컨테이너생성 + 확인\n",
    "\n",
    "```bash\n",
    "docker run -ti -e PASSWORD=\"jbnu\" -p 8787:8787 rocker/rstudio # 이미지에서 컨테이너 생성\n",
    "docker ps # 확인 \n",
    "```"
   ]
  },
  {
   "cell_type": "markdown",
   "id": "edc2321d",
   "metadata": {},
   "source": [
    "`-` 실행중인 컨테이너 중지 및 재시작 (stop,start) 해보고 의미 파악하기 \n",
    "\n",
    "```bash\n",
    "docker stop {컨테이너ID}\n",
    "docker start {컨테이너ID}\n",
    "```"
   ]
  },
  {
   "cell_type": "markdown",
   "id": "b04449cd",
   "metadata": {},
   "source": [
    "`-` 아래명령의 차이는? \n",
    "\n",
    "```bash\n",
    "docker ps \n",
    "docker ps -a \n",
    "```"
   ]
  },
  {
   "cell_type": "markdown",
   "id": "82982dca",
   "metadata": {},
   "source": [
    "`-` 아래명령의 차이는? \n",
    "\n",
    "```bash\n",
    "docker rm {컨테이너ID}\n",
    "docker stop {컨테이너ID}\n",
    "```"
   ]
  },
  {
   "cell_type": "markdown",
   "id": "669eb717",
   "metadata": {},
   "source": [
    "`-` 이미지를 지우는 방법 \n",
    "\n",
    "```bash\n",
    "docker image rm {이미지ID}\n",
    "```"
   ]
  },
  {
   "cell_type": "markdown",
   "id": "c1b80332-b330-4a4f-ac86-dbb04219ea55",
   "metadata": {},
   "source": [
    "## 실습65: docker로 ubuntu 실행하기(실습실 컴퓨터)"
   ]
  },
  {
   "cell_type": "markdown",
   "id": "f5aa1baf-68b5-41a9-8802-ac4652ac1ad3",
   "metadata": {},
   "source": [
    "`-` 우분투 이미지 다운로드 \n",
    "\n",
    "```bash\n",
    "docker pull ubuntu\n",
    "```"
   ]
  },
  {
   "cell_type": "markdown",
   "id": "3ea6980c-a21f-47fe-8bb4-de6b9f85cf14",
   "metadata": {},
   "source": [
    "`-` 실행 \n",
    "\n",
    "```bash\n",
    "docker run -ti -d -t ubuntu /bin/bash # 이미지에서 컨테이너 생성\n",
    "docker exec -ti guebin bash # 컨테이너로 in \n",
    "```"
   ]
  },
  {
   "cell_type": "markdown",
   "id": "1a55b4ef-bc22-4d2d-b017-e77589233753",
   "metadata": {},
   "source": [
    "## 실습65: docker로 ubuntu 실행하기 (183컴퓨터)"
   ]
  },
  {
   "cell_type": "markdown",
   "id": "6240314d-1d2f-4b50-ae73-9584592eedfb",
   "metadata": {},
   "source": [
    "`-` 우분투안에서 우분투 실행 \n",
    "\n",
    "```bash\n",
    "docker run -ti -d -t -p ?????:????? --name guebin ubuntu /bin/bash\n",
    "docker exec -ti guebin bash \n",
    "```"
   ]
  },
  {
   "cell_type": "markdown",
   "id": "e6ba6965-7488-4798-b232-225504f930b1",
   "metadata": {},
   "source": [
    "`-` 아래를 수행 \n",
    "\n",
    "```bash\n",
    "passwd root\n",
    "apt update \n",
    "apt install gcc\n",
    "apt install build-essential\n",
    "apt install vim \n",
    "```"
   ]
  },
  {
   "cell_type": "markdown",
   "id": "2a45d652-f81a-4e4d-8243-7577876968cf",
   "metadata": {},
   "source": [
    "## 실습66: 코드스페이스 사용하기 "
   ]
  },
  {
   "cell_type": "markdown",
   "id": "8db37d6b-b0e7-4de2-b8c3-9fbe28d25ba3",
   "metadata": {},
   "source": [
    "`-` 아래를 이용하여 코드스페이스 설치 "
   ]
  },
  {
   "cell_type": "markdown",
   "id": "2ac063aa-671f-4243-ab5a-b946e5961c26",
   "metadata": {},
   "source": [
    "```bash\n",
    "apt-get install curl\n",
    "curl -Lk 'https://code.visualstudio.com/sha/download?build=stable&os=cli-alpine-x64' --output vscode_cli.tar.gz\n",
    "tar -xf vscode_cli.tar.gz\n",
    "```"
   ]
  },
  {
   "cell_type": "markdown",
   "id": "7b20c916-433e-4364-8475-af0271e85b00",
   "metadata": {},
   "source": [
    "`-` 아래를 이용하여 초기설정 "
   ]
  },
  {
   "cell_type": "markdown",
   "id": "2a2e9002-6f03-4886-bb70-d9e018b4b7d1",
   "metadata": {},
   "source": [
    "```bash\n",
    "./code tunnel \n",
    "```"
   ]
  },
  {
   "cell_type": "markdown",
   "id": "d6d8ab72-d8ff-444a-b180-afc3d41d0408",
   "metadata": {},
   "source": [
    "- 컴퓨터 이름 잘 써야해요... \n",
    "- 외워야 하는 이름이에요.. "
   ]
  },
  {
   "cell_type": "markdown",
   "id": "41bfd0ab-fa71-4e3e-9755-1c166ff919d9",
   "metadata": {},
   "source": [
    "`-` 코드스페이스 평생켜놓기 \n",
    "\n",
    "```bash\n",
    "nohup ./code tunnel > /dev/null 2>&1 &\n",
    "```"
   ]
  },
  {
   "cell_type": "markdown",
   "id": "c9539c75-0ec3-4a6f-aab3-2a01c958f584",
   "metadata": {},
   "source": [
    "`-` 코드스페이스의 장점\n",
    "\n",
    "- 별도의 포트를 먹지 않는다. \n",
    "- 하나의 창에서 모든 가상환경을 동시에 이용할 수 있다. <-- 제가 이거때문에 씁니당..\n",
    "- 보안접속이 가능하다. "
   ]
  },
  {
   "cell_type": "markdown",
   "id": "b5badc98-1cdd-4657-b72a-46e1a96e1eba",
   "metadata": {},
   "source": [
    "## 실습67: Rstudio 사용하기"
   ]
  },
  {
   "cell_type": "markdown",
   "id": "471d9d0e-8b92-45cb-983d-291066536499",
   "metadata": {},
   "source": [
    "`-` 아래를 이용하여 Rstudio를 설치 (base환경인지 r환경인지는 무의미)"
   ]
  },
  {
   "cell_type": "markdown",
   "id": "46e025c6-3a65-4773-83c4-9f0567994e58",
   "metadata": {},
   "source": [
    "```bash\n",
    "sudo apt-get install gdebi-core\n",
    "wget https://download2.rstudio.org/server/jammy/amd64/rstudio-server-2022.12.0-353-amd64.deb\n",
    "sudo gdebi rstudio-server-2022.12.0-353-amd64.deb\n",
    "```"
   ]
  },
  {
   "cell_type": "markdown",
   "id": "728d7614-d919-4317-a4e8-2dfa445ceb5c",
   "metadata": {},
   "source": [
    "`-` `grst`가 만든 `rstudio-server-conda`를 클론 \n",
    "\n",
    "```bash\n",
    "git clone https://github.com/grst/rstudio-server-conda.git\n",
    "```"
   ]
  },
  {
   "cell_type": "markdown",
   "id": "f1afe818-8eea-4518-9c34-edb3d527bb47",
   "metadata": {},
   "source": [
    "`-` 내용을 수정\n",
    "\n",
    "```{.bash filename=~/rstudio-server-conda/local/start_rstudio_server.sh}\n",
    "\n",
    "아래쪽으로 쭉 가면...\n",
    "\n",
    "/usr/lib/rstudio-server/bin/rserver --server-daemonize=0 \\\n",
    "  --www-port=????? \\ ### <--- 여기 수정!!!!!\n",
    "  --auth-minimum-user-id=0 \\ ### <--- 여기 추가!!!!!\n",
    "  --secure-cookie-key-file=$COOKIE_KEY_PATH \\\n",
    "  --server-pid-file=\"$CWD/rstudio-server.pid\" \\\n",
    "  --server-data-dir=\"$CWD/rstudio-server\" \\\n",
    "  --rsession-which-r=$(which R) \\\n",
    "  --rsession-ld-library-path=$CONDA_PREFIX/lib \\\n",
    "  --rsession-path=\"$CWD/rsession.sh\" \\\n",
    "  --server-user $USER \\\n",
    "  --database-config-file \"$CWD/database.conf\" \\\n",
    "  $REVOCATION_LIST_PAR\n",
    "```"
   ]
  },
  {
   "cell_type": "markdown",
   "id": "3c4414eb-6eb7-4588-b479-3606e1cdb127",
   "metadata": {},
   "source": [
    "`-` `start_rstudio_server.sh`를 실행 "
   ]
  }
 ],
 "metadata": {
  "kernelspec": {
   "display_name": "Python 3 (ipykernel)",
   "language": "python",
   "name": "python3"
  },
  "language_info": {
   "codemirror_mode": {
    "name": "ipython",
    "version": 3
   },
   "file_extension": ".py",
   "mimetype": "text/x-python",
   "name": "python",
   "nbconvert_exporter": "python",
   "pygments_lexer": "ipython3",
   "version": "3.10.13"
  }
 },
 "nbformat": 4,
 "nbformat_minor": 5
}
