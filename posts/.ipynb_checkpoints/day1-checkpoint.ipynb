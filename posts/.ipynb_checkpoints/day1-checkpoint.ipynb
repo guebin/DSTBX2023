{
 "cells": [
  {
   "cell_type": "raw",
   "id": "d949f904-9b4f-4666-a05f-a6dd30a1b049",
   "metadata": {},
   "source": [
    "---\n",
    "title: \"Day1: 실습1 - 실습12\"\n",
    "author: \"최규빈\"\n",
    "date: \"01/02/2024\"\n",
    "---"
   ]
  },
  {
   "cell_type": "markdown",
   "id": "78c92de6-286b-4c98-8566-74edc35b4dad",
   "metadata": {},
   "source": [
    "## 실습1: 터미널의 이해 (강의용 윈도우 컴퓨터) \n",
    "\n",
    "```bash\n",
    "dir\n",
    "mkdir asdf\n",
    "cd\n",
    "cd.. \n",
    "```"
   ]
  },
  {
   "cell_type": "markdown",
   "id": "d8566b12-eaef-4115-9b49-7d4572b20095",
   "metadata": {},
   "source": [
    "## 실습2: 터미널에서 실행하는 파이썬 (강의용 윈도우 컴퓨터)\n",
    "\n",
    "`-` 질문1: 파이썬코드가 실행되는 속도는 어떤 컴퓨터의 spec에 결정될까? "
   ]
  },
  {
   "cell_type": "markdown",
   "id": "19284a37-96a9-460b-8e4a-5cb943378d43",
   "metadata": {},
   "source": [
    "## 실습3: 주피터에서 터미널 명령 활용하기 (강의용 윈도우 컴퓨터)\n",
    "\n",
    "```python\n",
    "!dir\n",
    "!mkdir asdf\n",
    "```"
   ]
  },
  {
   "cell_type": "markdown",
   "id": "a33859c6-b2ca-4526-9a91-d8dc2181e16c",
   "metadata": {},
   "source": [
    "## 실습4: 원격제어 (맥북)\n",
    "\n",
    "`-` 실습시간에 눈으로 보여줌!\n",
    "\n",
    "`-` 질문2: 여기서 파이썬을 키면? 어떤 컴퓨터 spec으로 계산될까?"
   ]
  },
  {
   "cell_type": "markdown",
   "id": "0cbb2fa2-dfad-4fff-bdf9-67b62e0dca5f",
   "metadata": {},
   "source": [
    "## 실습5: 깃의 설치 (강의용 윈도우 컴퓨터) \n",
    "\n",
    "`-` 깃 다운로드: <https://git-scm.com/downloads>\n",
    "\n",
    "`-` 토큰생성 및 복사: <https://github.com/settings/tokens>\n",
    "\n",
    "`-` 원격과 로칼의 연결 "
   ]
  },
  {
   "cell_type": "markdown",
   "id": "897666d4-d87a-4bd4-8db9-d26c9a9e4f84",
   "metadata": {},
   "source": [
    "## 실습6: 코드스페이스 (코드스페이스)\n",
    "\n",
    "`-` 원격제어 + 깃을 동시에 이해해야함.\n",
    "\n",
    "`-` 터미널에서 \"컨트롤(커맨드) C + 컨트롤(커맨드) V\" 가능하도록 허용\n",
    "\n",
    "`-` \"컨트롤(커맨드) + 쉬프트 + P\" -> jupyter 입력 -> 새로운 노트북파일 만들기"
   ]
  },
  {
   "cell_type": "markdown",
   "id": "e8aa4c14-8913-4366-b16e-79eedde056ba",
   "metadata": {},
   "source": [
    "## 실습7: VI 벼락치기 (코드스페이스)\n",
    "\n",
    "`-` `i`, `esc` 차이점.\n",
    "\n",
    "`-` Vi를 이용하여 파일만들기, Vi를 이용하여 파일수정하기\n",
    "\n",
    "`-` 복사 & 붙여넣기\n",
    "\n",
    "`-` Vi에서 편집후 저장 후 종료, 그냥 종료, 강제종료\n",
    "\n",
    "`-` 찾기: `/asdf` $\\to$ 엔터 $\\to$ n / shift+n\n",
    "\n",
    "`-` 단어끝으로 이동=e, 단어처음으로 이동=b"
   ]
  },
  {
   "cell_type": "markdown",
   "id": "a2f815d0-a578-46e8-8a96-49babe24ed51",
   "metadata": {},
   "source": [
    "## 실습8: 서버접속 (강의용 윈도우 컴퓨터)\n",
    "\n",
    "`-` 접속하기\n",
    "\n",
    "```bash\n",
    "ssh toolbox@210.117.173.182\n",
    "```\n",
    "\n",
    "`-` 비밀번호는 jbnu"
   ]
  },
  {
   "cell_type": "markdown",
   "id": "545c1ea5-5c93-42ea-a6ea-71b4cef2f8d4",
   "metadata": {},
   "source": [
    "## 실습9: 서버접속2 (개인 노트북)\n",
    "\n",
    "`-` 휴대폰 테더링으로 인터넷연결하고 본인 노트북으로 해보세요.\n",
    "\n",
    "`-` 실패할거에요"
   ]
  },
  {
   "cell_type": "markdown",
   "id": "aa5c880b-66c6-4cdd-92fa-dbb2b9c6ed53",
   "metadata": {},
   "source": [
    "## 실습10: 윈도우에서 블로그 생성 (강의용 윈도우 컴퓨터)\n",
    "\n",
    "`-` quarto 설치: <https://quarto.org/docs/download/>\n",
    "\n",
    "`-` 아래를 실행 \n",
    "\n",
    "```bash\n",
    "quarto create-project --type website:blog \n",
    "git add .\n",
    "git commit -m .\n",
    "git push\n",
    "quarto publish gh-pages\n",
    "```"
   ]
  },
  {
   "cell_type": "markdown",
   "id": "f90b9580-d83d-41f3-a62e-21a1d0ce05f4",
   "metadata": {},
   "source": [
    "# 실습11: 코드스페이스에서 블로그 생성 (코드스페이스) \n",
    "\n",
    "`-` 클론\n",
    "\n",
    "```bash\n",
    "git clone ??\n",
    "```\n",
    "\n",
    "`-` 몇 가지 변경 \n",
    "\n",
    "- `index.qmd` 에서 자기소개 추가하기\n",
    "- `_quarto.yml`에서 블로그 타이틀 설정하기\n",
    "\n",
    "`-` 변경사항 업데이트 \n",
    "\n",
    "```bash\n",
    "git add .\n",
    "git commit -m .\n",
    "git push\n",
    "quarto publish --no-browser --no-prompt \n",
    "```"
   ]
  },
  {
   "cell_type": "markdown",
   "id": "a82c65ba-5df9-4e15-825c-ecc7d75ada25",
   "metadata": {},
   "source": [
    "## 실습12: 블로그 포스트 업로드 (코드스페이스)\n",
    "\n",
    "`-` 숙제: 아래내용 공부\n",
    "- <https://guebin.github.io/IP2022/2022/03/28/(4주차)-3월28일.html>\n",
    "- <https://guebin.github.io/IR2021/2021/10/14/(6주차)-10월14일-특강.html>\n",
    "\n",
    "`-` 공부한것을 바탕으로 포싀트작성. 포스트 작성시 최상단에 raw 셀로 아래의 내용입력\n",
    "\n",
    "```\n",
    "---\n",
    "title: \"my title\"\n",
    "author: \"최규빈\"\n",
    "date: \"01/02/2024\"\n",
    "---\n",
    "```"
   ]
  }
 ],
 "metadata": {
  "kernelspec": {
   "display_name": "Python 3 (ipykernel)",
   "language": "python",
   "name": "python3"
  },
  "language_info": {
   "codemirror_mode": {
    "name": "ipython",
    "version": 3
   },
   "file_extension": ".py",
   "mimetype": "text/x-python",
   "name": "python",
   "nbconvert_exporter": "python",
   "pygments_lexer": "ipython3",
   "version": "3.10.13"
  }
 },
 "nbformat": 4,
 "nbformat_minor": 5
}
