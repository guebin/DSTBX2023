{
 "cells": [
  {
   "cell_type": "raw",
   "id": "4133a521-8415-4c70-a0fc-1103380dd51d",
   "metadata": {},
   "source": [
    "---\n",
    "title: \"Day2: 실습13 - ?? (draft)\"\n",
    "author: \"최규빈\"\n",
    "date: \"01/02/2024\"\n",
    "---"
   ]
  },
  {
   "cell_type": "markdown",
   "id": "3c9790df-c44a-428b-886d-7ddad76060e8",
   "metadata": {},
   "source": [
    "## 실습13: 숙제검사 "
   ]
  },
  {
   "cell_type": "markdown",
   "id": "4b860152-e8e9-4ef2-9336-2eeea906a62b",
   "metadata": {},
   "source": [
    "`-` 이거 클론하세요"
   ]
  },
  {
   "cell_type": "markdown",
   "id": "fd8ae038-65c0-4465-ad1a-8d25db896225",
   "metadata": {},
   "source": [
    "`-` 방법1"
   ]
  },
  {
   "cell_type": "code",
   "execution_count": 12,
   "id": "df4f3b45-a1c7-449f-8747-f06a6ce773e6",
   "metadata": {
    "tags": []
   },
   "outputs": [
    {
     "name": "stdout",
     "output_type": "stream",
     "text": [
      "baek_gm.txt   guebin.txt     jinsil.txt   seongjoon.txt\n",
      "choyun.txt    handoehee.txt  junhan.txt   seunghoon.txt\n",
      "coco.txt      hyeonji.txt    leejjae.txt  soonwon.txt\n",
      "daehyeon.txt  jeongmin.txt   mingu.txt\t  suwhan.txt\n"
     ]
    }
   ],
   "source": [
    "!ls ../1dayhw "
   ]
  },
  {
   "cell_type": "code",
   "execution_count": 13,
   "id": "26d8136d-1f53-4dc5-85df-c8be4669e00d",
   "metadata": {
    "tags": []
   },
   "outputs": [
    {
     "name": "stdout",
     "output_type": "stream",
     "text": [
      "github : https://github.com/baekgyeongmin\n",
      "blog : https://baekgyeongmin.github.io/blogggg/\n",
      "201821967 백경민\n"
     ]
    }
   ],
   "source": [
    "!cat ../1dayhw/baek_gm.txt"
   ]
  },
  {
   "cell_type": "code",
   "execution_count": 14,
   "id": "57a3869b-9f49-49df-a0d5-6c735de6f3d8",
   "metadata": {
    "tags": []
   },
   "outputs": [
    {
     "name": "stdout",
     "output_type": "stream",
     "text": [
      "github : https://github.com/jeongchoyun\n",
      "202350543 정초윤 https://jeongchoyun.github.io/TBX2024/\n"
     ]
    }
   ],
   "source": [
    "!cat ../1dayhw/choyun.txt"
   ]
  },
  {
   "cell_type": "markdown",
   "id": "b8aff239-417c-4e2d-bc80-3186b4624c40",
   "metadata": {},
   "source": [
    "`-` 방법2"
   ]
  },
  {
   "cell_type": "code",
   "execution_count": 16,
   "id": "1afbabce-48ec-44a9-b1c0-3d3b067fe681",
   "metadata": {
    "tags": []
   },
   "outputs": [],
   "source": [
    "!ls ../1dayhw > fnames.txt "
   ]
  },
  {
   "cell_type": "code",
   "execution_count": 4,
   "id": "55173dc9-7f7a-49b3-b16e-7c3aa928f9cb",
   "metadata": {
    "tags": []
   },
   "outputs": [],
   "source": [
    "!chmod +x show.sh"
   ]
  },
  {
   "cell_type": "code",
   "execution_count": 17,
   "id": "72fa87f4-1a9e-4fa8-9138-4133b7fb82e3",
   "metadata": {
    "tags": []
   },
   "outputs": [
    {
     "name": "stdout",
     "output_type": "stream",
     "text": [
      "github : https://github.com/baekgyeongmin\n",
      "blog : https://baekgyeongmin.github.io/blogggg/\n",
      "201821967 백경민\n",
      "github : https://github.com/jeongchoyun\n",
      "202350543 정초윤 https://jeongchoyun.github.io/TBX2024/\n",
      "coco(김보람),202250926, https://github.com/boram-coco, https://boram-coco.io/240102\n",
      "daehyeon\n",
      "201319536\n",
      "github:https://github.com/kobron\n",
      "최규빈,2021-43052,https://github.com/guebin,https://guebin.github.io/DSTBX2023/\n",
      "한도희\n",
      "지구환경과학과\n",
      "201916288\n",
      "https://github.com/handoehee\n",
      "전현지\n",
      "201918834\n",
      "github.com/hyeonji07\n",
      "https://hyeonji07.github.io/blog_last/\n",
      "ijeongmin 202115820\n",
      "github => https://github.com/amondmomo\n",
      "이정민\n",
      "https://amondmomo.github.io/blog_test/ \n",
      "김진실\n",
      "201920273\n",
      "https://github.com/jinisili\n",
      "https://jinisili.github.io/blog-please\n",
      "전준한,2020-16239,https://github.com/Pogjunan\n",
      "\n",
      "quarto blog 제작중입니다.\n",
      "\n",
      "leejeongjae 202021333 https://github.com/leejjae, https://leejjae.github.io/blog_test/\n",
      "강민구, 2023-50653, https://github.com/min9kan9, https://min9kan9.github.io/blog5/\n",
      "유성준,201810648,\n",
      "https://sjoon0305.github.io/blog_test2/\n",
      "양승훈 201916332 https://github.com/yangsh12\n",
      "\n",
      "권순원 201816897 https://github.com/sw1kwon\n",
      "201916240 김수환 https://github.com/swany00\n"
     ]
    }
   ],
   "source": [
    "!./show.sh"
   ]
  },
  {
   "cell_type": "markdown",
   "id": "6cad3117-a094-4173-9aaa-7df5a1a4b4b3",
   "metadata": {},
   "source": [
    "`-` 방법3: 아래의 파일을 생성하고 출력 "
   ]
  },
  {
   "cell_type": "markdown",
   "id": "366d9f47-98ed-413a-b21c-4ba52e475859",
   "metadata": {},
   "source": [
    "```{.bash filename=\"show2.sh\"}\n",
    "fnames=(\n",
    "    \"baek_gm.txt\" \"guebin.txt\" \"jinsil.txt\" \"seongjoon.txt\"\n",
    "    \"choyun.txt\" \"handoehee.txt\" \"junhan.txt\" \"seunghoon.txt\"\n",
    "    \"coco.txt\" \"hyeonji.txt\" \"leejjae.txt\" \"soonwon.txt\"\n",
    "    \"daehyeon.txt\" \"jeongmin.txt\" \"mingu.txt\" \"suwhan.txt\"\n",
    ")\n",
    "for fname in \"${fnames[@]}\"; do\n",
    "    echo \"File: $fname\"\n",
    "    cat \"../1dayhw/$fname\"\n",
    "    echo \"----------------\"\n",
    "done\n",
    "```"
   ]
  },
  {
   "cell_type": "code",
   "execution_count": 17,
   "id": "c19aab69-7d70-4beb-b7b4-51c02a0c885b",
   "metadata": {
    "tags": []
   },
   "outputs": [],
   "source": [
    "#!bash show2.sh"
   ]
  },
  {
   "cell_type": "markdown",
   "id": "5a13e184-b419-4b67-8829-de702cab8cf3",
   "metadata": {
    "tags": []
   },
   "source": [
    "`-` `./show2.sh` 와 `bash show2.sh` 의 차이? \n",
    "\n",
    "- 스크립트의 권한, 셸 지정\n",
    "- 잘 모르겠어요"
   ]
  },
  {
   "cell_type": "markdown",
   "id": "cfb078d3-f1dc-4985-a686-04de3864c85b",
   "metadata": {},
   "source": [
    "---"
   ]
  },
  {
   "cell_type": "markdown",
   "id": "fa5286f9-67ab-455f-a138-8d6c859c8ee0",
   "metadata": {},
   "source": [
    "저 숙제를 바탕으로 183 컴퓨터에 계정을 생성했습니다. "
   ]
  },
  {
   "cell_type": "markdown",
   "id": "4a7f8ceb-8a7a-4c10-b70f-1fee385e9f5f",
   "metadata": {},
   "source": [
    "***그냥 참고용.. 이렇게도 가능함 ㅎㅎ***"
   ]
  },
  {
   "cell_type": "code",
   "execution_count": 22,
   "id": "331534a6-af47-40b0-bec4-a66920169785",
   "metadata": {
    "tags": []
   },
   "outputs": [
    {
     "name": "stdout",
     "output_type": "stream",
     "text": [
      "baek_gm.txt   guebin.txt     jinsil.txt   seongjoon.txt\n",
      "choyun.txt    handoehee.txt  junhan.txt   seunghoon.txt\n",
      "coco.txt      hyeonji.txt    leejjae.txt  soonwon.txt\n",
      "daehyeon.txt  jeongmin.txt   mingu.txt\t  suwhan.txt\n"
     ]
    }
   ],
   "source": [
    "!ls ../1dayhw/"
   ]
  },
  {
   "cell_type": "code",
   "execution_count": 23,
   "id": "9f440189-d30d-494e-8448-1edfb51a12a3",
   "metadata": {
    "tags": []
   },
   "outputs": [],
   "source": [
    "file_names = [\n",
    "    \"baek_gm\", \"guebin\", \"jinsil\", \"seongjoon\",\n",
    "    \"choyun\", \"handoehee\", \"junhan\", \"seunghoon\",\n",
    "    \"coco\", \"hyeonji\", \"leejjae\", \"soonwon\",\n",
    "    \"daehyeon\", \"jeongmin\", \"mingu\", \"suwhan\"\n",
    "]"
   ]
  },
  {
   "cell_type": "code",
   "execution_count": 24,
   "id": "c306efa5-86c0-43a9-b7b5-d1748af07ecb",
   "metadata": {
    "tags": []
   },
   "outputs": [
    {
     "name": "stdout",
     "output_type": "stream",
     "text": [
      "adduser baek_gm --gecos \"\" --disabled-password && echo \"baek_gm:jbnu\" | chpasswd && usermod -aG sudo baek_gm\n",
      "adduser guebin --gecos \"\" --disabled-password && echo \"guebin:jbnu\" | chpasswd && usermod -aG sudo guebin\n",
      "adduser jinsil --gecos \"\" --disabled-password && echo \"jinsil:jbnu\" | chpasswd && usermod -aG sudo jinsil\n",
      "adduser seongjoon --gecos \"\" --disabled-password && echo \"seongjoon:jbnu\" | chpasswd && usermod -aG sudo seongjoon\n",
      "adduser choyun --gecos \"\" --disabled-password && echo \"choyun:jbnu\" | chpasswd && usermod -aG sudo choyun\n",
      "adduser handoehee --gecos \"\" --disabled-password && echo \"handoehee:jbnu\" | chpasswd && usermod -aG sudo handoehee\n",
      "adduser junhan --gecos \"\" --disabled-password && echo \"junhan:jbnu\" | chpasswd && usermod -aG sudo junhan\n",
      "adduser seunghoon --gecos \"\" --disabled-password && echo \"seunghoon:jbnu\" | chpasswd && usermod -aG sudo seunghoon\n",
      "adduser coco --gecos \"\" --disabled-password && echo \"coco:jbnu\" | chpasswd && usermod -aG sudo coco\n",
      "adduser hyeonji --gecos \"\" --disabled-password && echo \"hyeonji:jbnu\" | chpasswd && usermod -aG sudo hyeonji\n",
      "adduser leejjae --gecos \"\" --disabled-password && echo \"leejjae:jbnu\" | chpasswd && usermod -aG sudo leejjae\n",
      "adduser soonwon --gecos \"\" --disabled-password && echo \"soonwon:jbnu\" | chpasswd && usermod -aG sudo soonwon\n",
      "adduser daehyeon --gecos \"\" --disabled-password && echo \"daehyeon:jbnu\" | chpasswd && usermod -aG sudo daehyeon\n",
      "adduser jeongmin --gecos \"\" --disabled-password && echo \"jeongmin:jbnu\" | chpasswd && usermod -aG sudo jeongmin\n",
      "adduser mingu --gecos \"\" --disabled-password && echo \"mingu:jbnu\" | chpasswd && usermod -aG sudo mingu\n",
      "adduser suwhan --gecos \"\" --disabled-password && echo \"suwhan:jbnu\" | chpasswd && usermod -aG sudo suwhan\n"
     ]
    }
   ],
   "source": [
    "for username in file_names:\n",
    "    print(f'adduser {username} --gecos \"\" --disabled-password && echo \"{username}:jbnu\" | chpasswd && usermod -aG sudo {username}')"
   ]
  },
  {
   "cell_type": "markdown",
   "id": "1df2144b-9b56-4e66-b1bf-94dfc9df01ae",
   "metadata": {},
   "source": [
    "---"
   ]
  },
  {
   "cell_type": "markdown",
   "id": "702ca9a2-637d-4e6f-8916-fe7df6e0a782",
   "metadata": {},
   "source": [
    "## 실습14: 183 컴퓨터 접속 + passwd"
   ]
  },
  {
   "cell_type": "markdown",
   "id": "14df52ae-ff8a-4740-a7ef-97acf3822fb8",
   "metadata": {},
   "source": [
    "- passwd"
   ]
  },
  {
   "cell_type": "markdown",
   "id": "33f2043f-4f37-4780-ab6c-72754f3ec4b1",
   "metadata": {},
   "source": [
    "## 실습15: 183에서 git의 설치 및 연결"
   ]
  },
  {
   "cell_type": "markdown",
   "id": "2c52316e-58aa-4083-ae27-79cf529b93f9",
   "metadata": {},
   "source": [
    "- which git\n",
    "- sudo apt-get install git\n",
    "- sudo apt-get remove git"
   ]
  },
  {
   "cell_type": "markdown",
   "id": "dd80f870-7625-4ff2-8215-368ef78130db",
   "metadata": {},
   "source": [
    "## 실습16: 183에서 quarto의 설치"
   ]
  },
  {
   "cell_type": "markdown",
   "id": "e881d550-7b36-4682-9a32-fd6ce117314e",
   "metadata": {},
   "source": [
    "- which quarto \n",
    "- wget https://github.com/quarto-dev/quarto-cli/releases/download/v1.4.533/quarto-1.4.533-linux-amd64.deb\n",
    "- sudo dpkg -i quarto-1.4.533-linux-amd64.deb \n",
    "- sudo dpkg -r quarto "
   ]
  },
  {
   "cell_type": "markdown",
   "id": "2a3393d5-dd23-4560-99fd-16d3df9603a7",
   "metadata": {},
   "source": [
    "## 실습17: 183에서 아나콘다 설치"
   ]
  },
  {
   "cell_type": "markdown",
   "id": "9100971a-0622-4f73-8a94-bdbfb16f96ab",
   "metadata": {},
   "source": [
    "- https://www.anaconda.com/download <- 여기서 다운받을 수 있는 주소 get 하세여\n",
    "- bash Anaconda3-2019.03-Linux-x86_64.sh"
   ]
  },
  {
   "cell_type": "markdown",
   "id": "4ad396c3-b067-431c-ad48-56c589a723a5",
   "metadata": {},
   "source": [
    "아나콘다와 git/quarto의 차이는? "
   ]
  },
  {
   "cell_type": "markdown",
   "id": "9da740b8-b67f-45dc-ae0f-a91adf1c4271",
   "metadata": {},
   "source": [
    "## 실습18: 183에서 주피터랩 설치"
   ]
  },
  {
   "cell_type": "markdown",
   "id": "7cd56598-0204-47ca-b82d-c5d58c471782",
   "metadata": {
    "tags": []
   },
   "source": [
    "- conda create py310 python=3.10\n",
    "- conda activate py310 \n",
    "- conda install -c conda-forge jupyterlab \n",
    "- conda install -c conda-forge notebook "
   ]
  },
  {
   "cell_type": "markdown",
   "id": "30ec3d67-f9e5-4cdd-8ac4-114bd016a9f0",
   "metadata": {},
   "source": [
    "`-` 접속하는 방법1"
   ]
  },
  {
   "cell_type": "markdown",
   "id": "c96d063d-6075-4c9d-996a-37dddd8e62ae",
   "metadata": {},
   "source": [
    "- jupyter lab --ip \"0.0.0.0\" --port {8,학번끝3자리}\n",
    "- `http://127.0.0.1:8052/lab?token=b88352215f68009c7643ad7f5847ea82161e950459bdd504` 와 같은 주소 형식을 \n",
    "`http://210.117.173.183:8052/lab?token=b88352215f68009c7643ad7f5847ea82161e950459bdd504` 와 같이 바꾸고 들어오세요 "
   ]
  },
  {
   "cell_type": "markdown",
   "id": "70896622-ebaf-456c-9e22-3ec4c935de3e",
   "metadata": {
    "tags": []
   },
   "source": [
    "`-` 접속하는 방법2"
   ]
  },
  {
   "cell_type": "markdown",
   "id": "9223fda8-5593-4dc4-8921-0833152a57b4",
   "metadata": {},
   "source": [
    "- jupyter notebook password"
   ]
  },
  {
   "cell_type": "markdown",
   "id": "3aea642c-09d7-428d-8389-205e11227069",
   "metadata": {},
   "source": [
    "## 실습19: 1일차 숙제 쉽게 하는 방법"
   ]
  },
  {
   "cell_type": "markdown",
   "id": "29eb0e24-938e-451f-967d-8f8d91e06fdc",
   "metadata": {},
   "source": [
    "https://guebin.github.io/IP2022/2022/03/28/(4주차)-3월28일.html"
   ]
  },
  {
   "cell_type": "markdown",
   "id": "55f6b6d0-91d2-4531-ad8a-9df46b3450da",
   "metadata": {},
   "source": [
    "`-` 깃헙에서 홈페이지 만들경우 대응하는 레포지토리를 찾으면 쉽게 복사가능."
   ]
  },
  {
   "cell_type": "code",
   "execution_count": 28,
   "id": "fce70ae4-3e5d-46d5-9bcd-6108a3fe6ffd",
   "metadata": {
    "tags": []
   },
   "outputs": [],
   "source": [
    "#!wget \"https://raw.githubusercontent.com/guebin/IP2022/master/_notebooks/2022-03-28-(4%EC%A3%BC%EC%B0%A8)%203%EC%9B%9428%EC%9D%BC.ipynb\""
   ]
  },
  {
   "cell_type": "markdown",
   "id": "1957bbd7-ac03-4956-a433-ed13ebdc5691",
   "metadata": {},
   "source": [
    "## 실습20: 블로그 꾸미기"
   ]
  },
  {
   "cell_type": "markdown",
   "id": "bfe621ac-78a0-4ae2-be5a-7f50ef9851ef",
   "metadata": {},
   "source": [
    "`-` 보람\n",
    "\n",
    "- https://boram-coco.github.io/coco/"
   ]
  },
  {
   "cell_type": "markdown",
   "id": "df0cca54-3dcb-46d8-8181-c76e127a18ca",
   "metadata": {},
   "source": [
    "## 실습21: 이미지 그리기 (슈퍼유저)"
   ]
  },
  {
   "cell_type": "markdown",
   "id": "6b77dc06-b602-46c8-a846-73f46b6fcb2c",
   "metadata": {},
   "source": [
    "`-` 방법1"
   ]
  },
  {
   "cell_type": "code",
   "execution_count": 28,
   "id": "d9609e23-f02d-4056-85e6-10c67902acdb",
   "metadata": {
    "tags": []
   },
   "outputs": [
    {
     "name": "stdout",
     "output_type": "stream",
     "text": [
      "--2024-01-03 14:08:48--  https://imgs.xkcd.com/comics/sandwich.png\n",
      "Resolving imgs.xkcd.com (imgs.xkcd.com)... 146.75.48.67, 2a04:4e42:7c::67\n",
      "Connecting to imgs.xkcd.com (imgs.xkcd.com)|146.75.48.67|:443... connected.\n",
      "HTTP request sent, awaiting response... 200 OK\n",
      "Length: 11828 (12K) [image/png]\n",
      "Saving to: ‘sandwich.png’\n",
      "\n",
      "sandwich.png        100%[===================>]  11.55K  --.-KB/s    in 0s      \n",
      "\n",
      "2024-01-03 14:08:48 (69.3 MB/s) - ‘sandwich.png’ saved [11828/11828]\n",
      "\n"
     ]
    }
   ],
   "source": [
    "!wget https://imgs.xkcd.com/comics/sandwich.png"
   ]
  },
  {
   "cell_type": "markdown",
   "id": "b40e550e-07cf-4a81-b9bb-4db298dd18b5",
   "metadata": {},
   "source": [
    "![](sandwich.png)"
   ]
  },
  {
   "cell_type": "markdown",
   "id": "dff74bda-5d04-48ce-96d6-d2faca2be476",
   "metadata": {},
   "source": [
    "`-` 방법2"
   ]
  },
  {
   "cell_type": "markdown",
   "id": "1afd27df-59a9-4b91-b037-9b4f58595055",
   "metadata": {
    "tags": []
   },
   "source": [
    "![](https://imgs.xkcd.com/comics/sandwich.png)"
   ]
  },
  {
   "cell_type": "markdown",
   "id": "452e330b-35fe-4539-926f-9af0c9e14deb",
   "metadata": {},
   "source": [
    "`-` 방법3: 스크린샷 "
   ]
  },
  {
   "cell_type": "markdown",
   "id": "3d81a905-e135-4d81-a91f-a6aa4472b766",
   "metadata": {
    "tags": []
   },
   "source": [
    "## 실습22: 182 ssh차단 우회하기 (배운적X)"
   ]
  },
  {
   "cell_type": "markdown",
   "id": "6c6b3b95-badb-497f-9891-da4be72e6501",
   "metadata": {},
   "source": [
    "- sudo vi /etc/ssh/sshd_config \n",
    "- sudo systemctl restart ssh.service"
   ]
  },
  {
   "cell_type": "markdown",
   "id": "405ea816-fb9a-4d66-99aa-ecc2e931750f",
   "metadata": {
    "tags": []
   },
   "source": [
    "## 실습23: 186 컴퓨터 접속"
   ]
  },
  {
   "cell_type": "markdown",
   "id": "63c4227f-072c-4601-ab23-7b49d9671352",
   "metadata": {
    "tags": []
   },
   "source": [
    "## 실습24: 186 ssh차단 우회하기 (배운적X)"
   ]
  },
  {
   "cell_type": "markdown",
   "id": "eb39dab4-58cb-44e7-92e3-cb6250a283aa",
   "metadata": {
    "tags": []
   },
   "source": [
    "## 실습25: 186 컴퓨터 개발환경 셋팅하기"
   ]
  }
 ],
 "metadata": {
  "kernelspec": {
   "display_name": "Python 3 (ipykernel)",
   "language": "python",
   "name": "python3"
  },
  "language_info": {
   "codemirror_mode": {
    "name": "ipython",
    "version": 3
   },
   "file_extension": ".py",
   "mimetype": "text/x-python",
   "name": "python",
   "nbconvert_exporter": "python",
   "pygments_lexer": "ipython3",
   "version": "3.10.13"
  }
 },
 "nbformat": 4,
 "nbformat_minor": 5
}
