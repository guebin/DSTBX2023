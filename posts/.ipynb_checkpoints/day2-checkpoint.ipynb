{
 "cells": [
  {
   "cell_type": "raw",
   "id": "4133a521-8415-4c70-a0fc-1103380dd51d",
   "metadata": {},
   "source": [
    "---\n",
    "title: \"day2\"\n",
    "author: \"최규빈\"\n",
    "date: \"01/02/2024\"\n",
    "---"
   ]
  },
  {
   "cell_type": "markdown",
   "id": "4c174b2e-9720-480c-8889-6e37fa7eb299",
   "metadata": {},
   "source": [
    "## 실습13: 코드스페이스에 작업한 블로그를 윈도우로 pull (강의용 윈도우 컴퓨터) \n",
    "\n",
    "- git switch gh-pages\n",
    "- git add .\n",
    "- git commit -m .\n",
    "- git switch main\n",
    "- git add .\n",
    "- git commit -m .\n",
    "- git push\n",
    "\n",
    "## 실습14: quarto publish 의 동작이해 (강의용 윈도우 컴퓨터)\n",
    "\n",
    "- 질문1: git add . -> git commit -m . -> git push -> quarto publish --no-browser --no-prompt 순서로 꼭 업로드 해야하는가? 그냥 단순히 \"quarto publish --no-browser --no-prompt\" 만 하면 안되는가? "
   ]
  }
 ],
 "metadata": {
  "kernelspec": {
   "display_name": "Python 3 (ipykernel)",
   "language": "python",
   "name": "python3"
  },
  "language_info": {
   "codemirror_mode": {
    "name": "ipython",
    "version": 3
   },
   "file_extension": ".py",
   "mimetype": "text/x-python",
   "name": "python",
   "nbconvert_exporter": "python",
   "pygments_lexer": "ipython3",
   "version": "3.10.13"
  }
 },
 "nbformat": 4,
 "nbformat_minor": 5
}
