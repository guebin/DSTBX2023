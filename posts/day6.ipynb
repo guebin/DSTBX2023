{
 "cells": [
  {
   "cell_type": "raw",
   "id": "be9672f8-9b52-43e9-9ccc-dc478af391ea",
   "metadata": {},
   "source": [
    "---\n",
    "title: \"Day6: 실습68 - 실습77\"\n",
    "author: \"최규빈\"\n",
    "date: \"01/10/2024\"\n",
    "---"
   ]
  },
  {
   "cell_type": "markdown",
   "id": "35d115ca-8600-49a3-aa92-d0d2ebf509a6",
   "metadata": {},
   "source": [
    "{{< video https://youtu.be/playlist?list=PLQqh36zP38-zhZfjE1qo5d6ei5Y6w0IpQ&si=CDET6dfpgUeAXMkX >}}"
   ]
  },
  {
   "cell_type": "markdown",
   "id": "281d1b53-0e3c-40b3-940d-5100cb02973f",
   "metadata": {},
   "source": [
    "## 실습68: 100MB 충돌 "
   ]
  },
  {
   "cell_type": "markdown",
   "id": "5a4e0bbc-c024-49bc-ace8-180d327f83f2",
   "metadata": {},
   "source": [
    "`-` 100MB가 넘는 파일을 upload할 경우 생기는 충돌 재현 \n",
    "\n",
    "```bash\n",
    "git clone https://github.com/guebin/dinner.git # 각자 레포를 만들고 클론할것 \n",
    "cd dinner # 클론한 repo로 이동\n",
    "git config credential.helper store # git 등록 \n",
    "wget https://media.githubusercontent.com/media/guebin/PP2023/main/posts/fashion-mnist_train.csv # 100MB넘는 csv다운로드 \n",
    "git add .\n",
    "git commit -m .\n",
    "git push \n",
    "#여기서 1차당황\n",
    "```"
   ]
  },
  {
   "cell_type": "markdown",
   "id": "8d4aee89-89ba-4d62-9f0b-936961838ea8",
   "metadata": {},
   "source": [
    "`-` 삭제후 다시 push\n",
    "\n",
    "```bash\n",
    "rm fashion-mnist_train.csv \n",
    "git add .\n",
    "git commit -m .\n",
    "git push \n",
    "# 여기서 2차당황\n",
    "```"
   ]
  },
  {
   "cell_type": "markdown",
   "id": "60d240e0-1ceb-4e30-9894-39e14481dc74",
   "metadata": {},
   "source": [
    "`-` 해결책? local에서 깃폴더삭제하고 다시 clone  "
   ]
  },
  {
   "cell_type": "markdown",
   "id": "f155b113-5d89-482d-b79e-76ad5f5c2957",
   "metadata": {},
   "source": [
    "## 실습69: git ignore "
   ]
  },
  {
   "cell_type": "markdown",
   "id": "1ec4e293-4ae3-446d-ac42-320b9a050d26",
   "metadata": {},
   "source": [
    "`-` 다시 아래의 상황을 만듦. \n",
    "\n",
    "```bash\n",
    "git clone https://github.com/guebin/dinner.git # 각자 레포를 만들고 클론할것 \n",
    "cd dinner # 클론한 repo로 이동\n",
    "git config credential.helper store # git 등록 \n",
    "wget https://media.githubusercontent.com/media/guebin/PP2023/main/posts/fashion-mnist_train.csv # 100MB넘는 csv다운로드 \n",
    "```"
   ]
  },
  {
   "cell_type": "markdown",
   "id": "f18e3869-a5f2-480b-ab74-5b2046b178da",
   "metadata": {
    "tags": []
   },
   "source": [
    "`-` `.gitignore` 파일 생성 \n",
    "\n",
    "```{.bash filename=~/dinner/.gitignore}\n",
    "*csv\n",
    "```"
   ]
  },
  {
   "cell_type": "markdown",
   "id": "470905f4-48be-4b9c-8e4d-7f2da61ac5b7",
   "metadata": {},
   "source": [
    "`-` 아래를 시도 \n",
    "\n",
    "```bash\n",
    "git add .\n",
    "git commit -m .\n",
    "git push \n",
    "```"
   ]
  },
  {
   "cell_type": "markdown",
   "id": "1763b440-c35f-49a2-b160-fe9958b90a4c",
   "metadata": {},
   "source": [
    "`-` 하위폴더도 영향받음을 확인 \n",
    "\n",
    "- data라는 폴더를 생성\n",
    "- fashion-mnist_train.csv 를 data 폴더로 이동 \n",
    "- `ls data > ./data/data_list.txt` 실행 (무슨뜻?)\n",
    "- github으로 push"
   ]
  },
  {
   "cell_type": "markdown",
   "id": "e0e2fd9b-5aa9-4935-80b8-4d9533af1cab",
   "metadata": {},
   "source": [
    "`-` `.gitignore`를 잘 사용하는 방법들은 (예를들어서 특정 폴더안에 있는 파일은 모두 git에서 무시하고 싶을때) ChatGPT를 이용하여 스스로 터득할 것 "
   ]
  },
  {
   "cell_type": "markdown",
   "id": "03bf0551-b2c4-4739-90ce-6be7cbb4cbbe",
   "metadata": {},
   "source": [
    "## 실습70: 블로그 제목이 update 되지 않을때 "
   ]
  },
  {
   "cell_type": "markdown",
   "id": "b9231f52-17cf-415f-b467-721a3d1cc042",
   "metadata": {},
   "source": [
    "`-` 아래를 수행\n",
    "\n",
    "```bash\n",
    "rm -rf docs\n",
    "git add .\n",
    "git commit -m .\n",
    "git push\n",
    "quarto render \n",
    "git add .\n",
    "git commit -m .\n",
    "git push\n",
    "```"
   ]
  },
  {
   "cell_type": "markdown",
   "id": "7a991649-e46e-4c31-b149-2715f6acd381",
   "metadata": {},
   "source": [
    "## 실습71: dinner를 codespace로 만들기 "
   ]
  },
  {
   "cell_type": "markdown",
   "id": "60a33c42-c40b-45cd-bd20-87671b44daf3",
   "metadata": {},
   "source": [
    "## 실습72: `revert` vs `reset` "
   ]
  },
  {
   "cell_type": "markdown",
   "id": "a8c95420-3759-48ca-87e8-ebccd32ad191",
   "metadata": {},
   "source": [
    "## 실습73: 한꺼풀씩 `revert`"
   ]
  },
  {
   "cell_type": "markdown",
   "id": "07099a88-0d96-4bf7-ac79-495abaf1a2de",
   "metadata": {},
   "source": [
    "## 실습74: `revert`, `reset`이 가능한 이유? "
   ]
  },
  {
   "cell_type": "markdown",
   "id": "c8822b0f-c4f6-4c9c-8ad2-bb2ab9677026",
   "metadata": {},
   "source": [
    "## 실습75: git과 github의 차이점"
   ]
  },
  {
   "cell_type": "markdown",
   "id": "0fdc4c87-a34a-4ed6-b263-48a055dc403d",
   "metadata": {},
   "source": [
    "## 실습76: `git branch` "
   ]
  },
  {
   "cell_type": "markdown",
   "id": "0cbd713b-0257-49fa-b282-713d0db77604",
   "metadata": {},
   "source": [
    "## 실습77: `merge` 와 `rebase`의 차이점 "
   ]
  },
  {
   "cell_type": "markdown",
   "id": "862f4d94-03cd-489d-8ca7-03f88c842f9e",
   "metadata": {},
   "source": [
    "`-` 이거 제가 영상에서 설명을 좀 버벅였는데요.. 큰 차이는 없고 git merge를 하면 \"재정렬\"이 일어나지 않고 git rebase는 \"재정렬\"이 일어나며 이전에 했던 작업들에 새로운 hash가 부여된다는 점이 차이점입니다.  "
   ]
  },
  {
   "cell_type": "markdown",
   "id": "a9f62285-6c95-4d72-9eba-881673689c28",
   "metadata": {},
   "source": [
    "## 실습78: 제가 쓰는 방식 "
   ]
  },
  {
   "cell_type": "markdown",
   "id": "ff250822-0ef0-4579-a7a2-6b588c695971",
   "metadata": {},
   "source": [
    "`-` 브랜치쓰지 않음. \n",
    "\n",
    "`-` `git revert`, `git reset` 정도만 활용 "
   ]
  }
 ],
 "metadata": {
  "kernelspec": {
   "display_name": "Python 3 (ipykernel)",
   "language": "python",
   "name": "python3"
  },
  "language_info": {
   "codemirror_mode": {
    "name": "ipython",
    "version": 3
   },
   "file_extension": ".py",
   "mimetype": "text/x-python",
   "name": "python",
   "nbconvert_exporter": "python",
   "pygments_lexer": "ipython3",
   "version": "3.10.13"
  }
 },
 "nbformat": 4,
 "nbformat_minor": 5
}
